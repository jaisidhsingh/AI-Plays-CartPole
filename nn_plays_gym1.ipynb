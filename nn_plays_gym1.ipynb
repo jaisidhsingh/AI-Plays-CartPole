{
  "nbformat": 4,
  "nbformat_minor": 0,
  "metadata": {
    "colab": {
      "name": "nn-plays-gym.ipynb",
      "provenance": [],
      "collapsed_sections": [],
      "authorship_tag": "ABX9TyNpigc7GuP2f8D9b9bUBJe6",
      "include_colab_link": true
    },
    "kernelspec": {
      "name": "python3",
      "display_name": "Python 3"
    },
    "accelerator": "GPU"
  },
  "cells": [
    {
      "cell_type": "markdown",
      "metadata": {
        "id": "view-in-github",
        "colab_type": "text"
      },
      "source": [
        "<a href=\"https://colab.research.google.com/github/jaisidhsingh/AI-Plays-CartPole/blob/main/nn_plays_gym1.ipynb\" target=\"_parent\"><img src=\"https://colab.research.google.com/assets/colab-badge.svg\" alt=\"Open In Colab\"/></a>"
      ]
    },
    {
      "cell_type": "code",
      "metadata": {
        "colab": {
          "base_uri": "https://localhost:8080/"
        },
        "id": "Ub_e-y5-LU21",
        "outputId": "0d21d422-7efd-4532-a56d-1479d728e2c9"
      },
      "source": [
        "import gym\r\n",
        "import tensorflow as tf\r\n",
        "from tensorflow import keras\r\n",
        "import numpy as np\r\n",
        "import time\r\n",
        "import os\r\n",
        "from statistics import mean, median\r\n",
        "import random\r\n",
        "from collections import Counter\r\n",
        "\r\n",
        "# initialize environment \r\n",
        "env = gym.make('CartPole-v0')\r\n",
        "env.reset()"
      ],
      "execution_count": 42,
      "outputs": [
        {
          "output_type": "execute_result",
          "data": {
            "text/plain": [
              "array([-0.04774112, -0.03132465, -0.01949663, -0.03219317])"
            ]
          },
          "metadata": {
            "tags": []
          },
          "execution_count": 42
        }
      ]
    },
    {
      "cell_type": "code",
      "metadata": {
        "id": "eL0UFm_YLalm"
      },
      "source": [
        "# define parameters\r\n",
        "learning_rate = 0.1\r\n",
        "goals = 500\r\n",
        "score_required = 50\r\n",
        "initial_games = 10000\r\n",
        "\r\n",
        "# observations contains pole position, cart position etc\r\n",
        "# rewards if the pole is balanced 1 or 0\r\n",
        "# done if the game is over\r\n",
        "# info is any other info"
      ],
      "execution_count": 43,
      "outputs": []
    },
    {
      "cell_type": "code",
      "metadata": {
        "id": "2nGF1kXnLetN"
      },
      "source": [
        "# play some random games as a start\r\n",
        "def random_games():\r\n",
        "\tfor x in range(5):\r\n",
        "\t\tenv.reset()\r\n",
        "\t\tfor i in range(goals):\r\n",
        "\t\t\tenv.render()\r\n",
        "\t\t\taction = env.action_space.sample()\r\n",
        "\t\t\tobservation, rewards, done, info = env.step(action)\r\n",
        "\t\t\tif done:\r\n",
        "\t\t\t\tbreak\r\n",
        "\r\n",
        "# get training data based on random actions which get us a score of 50 or more\r\n",
        "def initial_training():\r\n",
        "\ttrain_data = []\r\n",
        "\tscores = []\r\n",
        "\taccepted_scores = []\r\n",
        "\r\n",
        "\tfor x in range(initial_games):\r\n",
        "\t\tscore = 0\r\n",
        "\t\tmemory = []\r\n",
        "\t\tprevious_observation = []\r\n",
        "\t\tfor i in range(goals):\r\n",
        "\t\t\taction = random.randrange(0, 2)\r\n",
        "\t\t\tobservation, rewards, done, info = env.step(action)\r\n",
        "\t\t\tif len(previous_observation) > 0:\r\n",
        "\t\t\t\t# store previous observation with the current action\r\n",
        "\t\t\t\tmemory.append([previous_observation, action])\r\n",
        "\t\t\tprevious_observation = observation\r\n",
        "\t\t\tscore += rewards\r\n",
        "\t\t\tif done:\r\n",
        "\t\t\t\tbreak\r\n",
        "\t\tif score >= score_required:\r\n",
        "\t\t\taccepted_scores.append(score)\r\n",
        "\t\t\tfor data in memory:\r\n",
        "\t\t\t\tif data[1] == 1:\r\n",
        "\t\t\t\t\toutput = [1 , 0] #going right\r\n",
        "\t\t\t\telif data[1] == 0:\r\n",
        "\t\t\t\t\toutput = [0, 1] #going left\r\n",
        "\t\t\t\ttrain_data.append([data[0], output])\r\n",
        "\r\n",
        "\t\tenv.reset()\r\n",
        "\t\tscores.append(score)\r\n",
        "\r\n",
        "\ttrain_data_save = np.array(train_data)\r\n",
        "\tnp.save('trained1.npy', train_data_save)\r\n",
        "\r\n",
        "\tprint('Average accepted score : ', mean(accepted_scores), \"\\n\")\r\n",
        "\tprint('Median accepted score : ', median(accepted_scores), \"\\n\")\r\n",
        "\tprint('Max accepted score : ', max(accepted_scores), \"\\n\")\r\n",
        "\r\n",
        "\tprint(Counter(accepted_scores),\"\\n\")\r\n",
        "\r\n",
        "\treturn train_data\r\n",
        "\r\n",
        "# prepare data to be fed into the model\r\n",
        "def prep_train(train_data):\r\n",
        "\tX = np.array([i[0] for i in train_data])\r\n",
        "\tX = X.reshape(-1, len(train_data[0][0]))\r\n",
        "\r\n",
        "\ty = np.array([i[1] for i in train_data])\r\n",
        "\ty = y.reshape(-1, len(train_data[0][1]))\r\n",
        "\r\n",
        "\treturn X, y\r\n"
      ],
      "execution_count": 44,
      "outputs": []
    },
    {
      "cell_type": "code",
      "metadata": {
        "colab": {
          "base_uri": "https://localhost:8080/",
          "height": 1000
        },
        "id": "8MO5muAwLl2C",
        "outputId": "bd271bc9-10e1-4ed3-93f4-0f9950b61227"
      },
      "source": [
        "train_data = initial_training()\r\n",
        "\r\n",
        "prepped_data = prep_train(train_data)\r\n",
        "\r\n",
        "X_train, y_train = prepped_data\r\n",
        "\r\n",
        "input_shape = len(X_train[0])\r\n",
        "print(input_shape)\r\n",
        "print(X_train.shape)\r\n",
        "print(y_train.shape, \"\\n\")\r\n",
        "\r\n",
        "# reshape the data \r\n",
        "z = np.zeros((y_train.shape[0], 1), dtype=np.int64)\r\n",
        "y_train = np.append(y_train, z, axis=1)\r\n",
        "y_train = np.append(y_train, z, axis=1)\r\n",
        "\r\n",
        "X_train = X_train.reshape((-1, 4, 1))\r\n",
        "print(X_train.shape)\r\n",
        "y_train = y_train.reshape((y_train.shape[0], y_train.shape[1], 1))\r\n",
        "print(y_train.shape)\r\n",
        "\r\n",
        "for i in range(5):\r\n",
        "  print(X_train[i])\r\n",
        "  print(y_train[i], \"\\n\")"
      ],
      "execution_count": 45,
      "outputs": [
        {
          "output_type": "stream",
          "text": [
            "Average accepted score :  61.55334987593052 \n",
            "\n",
            "Median accepted score :  59.0 \n",
            "\n",
            "Max accepted score :  119.0 \n",
            "\n",
            "Counter({50.0: 38, 53.0: 27, 51.0: 25, 55.0: 23, 59.0: 23, 54.0: 20, 52.0: 18, 57.0: 18, 56.0: 18, 63.0: 17, 60.0: 17, 62.0: 16, 64.0: 11, 68.0: 10, 65.0: 10, 58.0: 9, 61.0: 9, 66.0: 8, 67.0: 7, 69.0: 7, 72.0: 6, 71.0: 6, 73.0: 5, 70.0: 5, 75.0: 5, 74.0: 4, 87.0: 3, 80.0: 3, 99.0: 2, 94.0: 2, 86.0: 2, 85.0: 2, 76.0: 2, 82.0: 2, 89.0: 2, 79.0: 2, 119.0: 2, 88.0: 2, 81.0: 2, 78.0: 2, 83.0: 2, 91.0: 2, 77.0: 2, 111.0: 1, 84.0: 1, 115.0: 1, 90.0: 1, 101.0: 1}) \n",
            "\n",
            "4\n",
            "(24403, 4)\n",
            "(24403, 2) \n",
            "\n",
            "(24403, 4, 1)\n",
            "(24403, 4, 1)\n",
            "[[-0.04836761]\n",
            " [ 0.16407138]\n",
            " [-0.02014049]\n",
            " [-0.33096316]]\n",
            "[[0]\n",
            " [1]\n",
            " [0]\n",
            " [0]] \n",
            "\n",
            "[[-0.04508618]\n",
            " [-0.03075817]\n",
            " [-0.02675975]\n",
            " [-0.04469901]]\n",
            "[[1]\n",
            " [0]\n",
            " [0]\n",
            " [0]] \n",
            "\n",
            "[[-0.04570135]\n",
            " [ 0.16473708]\n",
            " [-0.02765374]\n",
            " [-0.34570332]]\n",
            "[[0]\n",
            " [1]\n",
            " [0]\n",
            " [0]] \n",
            "\n",
            "[[-0.0424066 ]\n",
            " [-0.02998081]\n",
            " [-0.0345678 ]\n",
            " [-0.06186732]]\n",
            "[[1]\n",
            " [0]\n",
            " [0]\n",
            " [0]] \n",
            "\n",
            "[[-0.04300622]\n",
            " [ 0.16561927]\n",
            " [-0.03580515]\n",
            " [-0.36525308]]\n",
            "[[1]\n",
            " [0]\n",
            " [0]\n",
            " [0]] \n",
            "\n"
          ],
          "name": "stdout"
        },
        {
          "output_type": "stream",
          "text": [
            "/usr/local/lib/python3.7/dist-packages/ipykernel_launcher.py:43: VisibleDeprecationWarning: Creating an ndarray from ragged nested sequences (which is a list-or-tuple of lists-or-tuples-or ndarrays with different lengths or shapes) is deprecated. If you meant to do this, you must specify 'dtype=object' when creating the ndarray\n"
          ],
          "name": "stderr"
        },
        {
          "output_type": "execute_result",
          "data": {
            "application/vnd.google.colaboratory.intrinsic+json": {
              "type": "string"
            },
            "text/plain": [
              "'z = np.zeros((y_train.shape[0], 1), dtype=np.int64)\\ny_train = np.append(y_train, z, axis=1)\\ny_train = np.append(y_train, z, axis=1)\\n\\nX_train = X_train.reshape((-1, 4, 1))\\nprint(X_train.shape)\\ny_train = y_train.reshape((y_train.shape[0], y_train.shape[1], 1))\\nprint(y_train.shape)'"
            ]
          },
          "metadata": {
            "tags": []
          },
          "execution_count": 45
        }
      ]
    },
    {
      "cell_type": "code",
      "metadata": {
        "colab": {
          "base_uri": "https://localhost:8080/"
        },
        "id": "BqTALqViLz8G",
        "outputId": "d993fb58-9d1f-4f64-dc33-726fa8db5fdb"
      },
      "source": [
        "#define the model\r\n",
        "def get_model():\r\n",
        "\tmodel = keras.models.Sequential()\r\n",
        "\tmodel.add(keras.layers.Dense(128, input_shape=(input_shape, 1), activation='relu'))\r\n",
        "\tmodel.add(keras.layers.Dropout(0.8))\r\n",
        "\tmodel.add(keras.layers.Dense(256, activation='relu'))\r\n",
        "\tmodel.add(keras.layers.BatchNormalization())\r\n",
        "\tmodel.add(keras.layers.Dense(512, activation='relu'))\r\n",
        "\tmodel.add(keras.layers.Dropout(0.8))\r\n",
        "\tmodel.add(keras.layers.Dense(512, activation='relu'))\r\n",
        "\tmodel.add(keras.layers.Dropout(0.8))\r\n",
        "\tmodel.add(keras.layers.Dense(256, activation='relu'))\r\n",
        "\tmodel.add(keras.layers.Dropout(0.8))\r\n",
        "\tmodel.add(keras.layers.Dense(128, activation='relu'))\r\n",
        "\tmodel.add(keras.layers.Dropout(0.8))\r\n",
        "\tmodel.add(keras.layers.BatchNormalization())\r\n",
        "\tmodel.add(keras.layers.Dense(1, activation='sigmoid'))\r\n",
        "\r\n",
        "\treturn model\r\n",
        "\r\n",
        "model = get_model()\r\n",
        "model.summary()"
      ],
      "execution_count": 53,
      "outputs": [
        {
          "output_type": "stream",
          "text": [
            "Model: \"sequential_14\"\n",
            "_________________________________________________________________\n",
            "Layer (type)                 Output Shape              Param #   \n",
            "=================================================================\n",
            "dense_73 (Dense)             (None, 4, 128)            256       \n",
            "_________________________________________________________________\n",
            "dropout_50 (Dropout)         (None, 4, 128)            0         \n",
            "_________________________________________________________________\n",
            "dense_74 (Dense)             (None, 4, 256)            33024     \n",
            "_________________________________________________________________\n",
            "batch_normalization_20 (Batc (None, 4, 256)            1024      \n",
            "_________________________________________________________________\n",
            "dense_75 (Dense)             (None, 4, 512)            131584    \n",
            "_________________________________________________________________\n",
            "dropout_51 (Dropout)         (None, 4, 512)            0         \n",
            "_________________________________________________________________\n",
            "dense_76 (Dense)             (None, 4, 512)            262656    \n",
            "_________________________________________________________________\n",
            "dropout_52 (Dropout)         (None, 4, 512)            0         \n",
            "_________________________________________________________________\n",
            "dense_77 (Dense)             (None, 4, 256)            131328    \n",
            "_________________________________________________________________\n",
            "dropout_53 (Dropout)         (None, 4, 256)            0         \n",
            "_________________________________________________________________\n",
            "dense_78 (Dense)             (None, 4, 128)            32896     \n",
            "_________________________________________________________________\n",
            "dropout_54 (Dropout)         (None, 4, 128)            0         \n",
            "_________________________________________________________________\n",
            "batch_normalization_21 (Batc (None, 4, 128)            512       \n",
            "_________________________________________________________________\n",
            "dense_79 (Dense)             (None, 4, 1)              129       \n",
            "=================================================================\n",
            "Total params: 593,409\n",
            "Trainable params: 592,641\n",
            "Non-trainable params: 768\n",
            "_________________________________________________________________\n"
          ],
          "name": "stdout"
        }
      ]
    },
    {
      "cell_type": "code",
      "metadata": {
        "id": "lQ25WXK_MmzE"
      },
      "source": [
        "# y_train = keras.utils.to_categorical(y_train, 2)\r\n",
        "# print(y_train.shape)"
      ],
      "execution_count": 49,
      "outputs": []
    },
    {
      "cell_type": "code",
      "metadata": {
        "colab": {
          "base_uri": "https://localhost:8080/"
        },
        "id": "uegkbHfLMxoC",
        "outputId": "57f43068-7b23-4c46-90e2-d2df55a2e063"
      },
      "source": [
        "model.compile(loss=keras.losses.binary_crossentropy,\r\n",
        " optimizer=keras.optimizers.Adam(learning_rate=learning_rate), \r\n",
        " metrics=['accuracy'])\r\n",
        "\r\n",
        "model_history = model.fit(X_train, y_train, batch_size=32, epochs=10)\r\n"
      ],
      "execution_count": 57,
      "outputs": [
        {
          "output_type": "stream",
          "text": [
            "Epoch 1/10\n",
            "763/763 [==============================] - 5s 5ms/step - loss: 0.5883 - accuracy: 0.7405\n",
            "Epoch 2/10\n",
            "763/763 [==============================] - 4s 5ms/step - loss: 0.5839 - accuracy: 0.7442\n",
            "Epoch 3/10\n",
            "763/763 [==============================] - 4s 5ms/step - loss: 0.5795 - accuracy: 0.7464\n",
            "Epoch 4/10\n",
            "763/763 [==============================] - 4s 5ms/step - loss: 0.5827 - accuracy: 0.7446\n",
            "Epoch 5/10\n",
            "763/763 [==============================] - 4s 6ms/step - loss: 0.5869 - accuracy: 0.7437\n",
            "Epoch 6/10\n",
            "763/763 [==============================] - 4s 5ms/step - loss: 0.5845 - accuracy: 0.7430\n",
            "Epoch 7/10\n",
            "763/763 [==============================] - 4s 5ms/step - loss: 0.5910 - accuracy: 0.7427\n",
            "Epoch 8/10\n",
            "763/763 [==============================] - 4s 5ms/step - loss: 0.5865 - accuracy: 0.7438\n",
            "Epoch 9/10\n",
            "763/763 [==============================] - 4s 6ms/step - loss: 0.5837 - accuracy: 0.7437\n",
            "Epoch 10/10\n",
            "763/763 [==============================] - 4s 5ms/step - loss: 0.5899 - accuracy: 0.7418\n"
          ],
          "name": "stdout"
        }
      ]
    },
    {
      "cell_type": "code",
      "metadata": {
        "id": "JWiBDMcIM3im"
      },
      "source": [
        ""
      ],
      "execution_count": null,
      "outputs": []
    }
  ]
}